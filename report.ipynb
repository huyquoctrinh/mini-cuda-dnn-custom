{
 "cells": [
  {
   "cell_type": "markdown",
   "metadata": {},
   "source": [
    "## CSC14120 - Parallel programming"
   ]
  },
  {
   "cell_type": "markdown",
   "metadata": {},
   "source": [
    "## **FINAL PROJECT**\n",
    "### Group 31\n",
    "\n",
    "| Student ID  | Full name  |\n",
    "|---|---|\n",
    "|  20120013 |  Trịnh Quốc Huy |\n",
    "|  20120191 |  Võ Thị Phước Thảo  |\n",
    "|  20120609 |  Nguyễn Hoàng Trung  |"
   ]
  },
  {
   "cell_type": "markdown",
   "metadata": {},
   "source": [
    "## 1. Project Description"
   ]
  },
  {
   "cell_type": "markdown",
   "metadata": {},
   "source": [
    "### 1.1 Introduction\n",
    "\n",
    "This final project is an implementation and optimization of the forward-pass of a convolutional layer using CUDA. Convolutional layers are the primary building blocks of convolutional neural networks (CNNs), which are used in many machine learning tasks like image classification, object detection, natural language processing, and recommendation systems. In general, CNNs work well on tasks where the data/input features have some level of spatial relationship.\n",
    "The forward pass is implemented for a modified version of the LeNet-5 architecture:\n",
    "![LeNet5](https://www.datasciencecentral.com/wp-content/uploads/2021/10/1lvvWF48t7cyRWqct13eU0w.jpeg)\n",
    "\n",
    "The CUDA implementation of the convolutional layer will be used to perform inference for layers C1 and C3 in the figure above. This leverages the mini-dnn-cpp (Mini-DNN) framework for implementing the modified LeNet-5."
   ]
  },
  {
   "cell_type": "markdown",
   "metadata": {},
   "source": [
    "### 1.2 Motivation\n",
    "Parallelizing the LeNet-5 on GPU can enhance speed and let it to handle larger and more complicated datasets. We can employ optimization techniques like shared memory, constant memory, and stream in parallel."
   ]
  },
  {
   "cell_type": "markdown",
   "metadata": {},
   "source": [
    "### 1.3 Planning\n",
    "| Tasks | Huy | Thảo | Trung | Progress |\n",
    "|---|---|---|---|---|\n",
    "| Planning | x | x | x | 100% |\n",
    "| Read Documents | x | x | x | 100% |\n",
    "| Sequential Convolution | x |  |  | 100% |\n",
    "| Basic Parallel Convolution | | x | | 100% |\n",
    "| Optimization: Shared memory | | x |  | 100% |\n",
    "| Optimization: Constant memory | | x | | 100% |\n",
    "| Optimization: Stream |  |  | x | 100% |\n",
    "| Build project | x | | | 100% |\n",
    "| Report | x |  |  | 100% |\n"
   ]
  },
  {
   "cell_type": "markdown",
   "metadata": {},
   "source": [
    "## 2. Implement"
   ]
  },
  {
   "cell_type": "markdown",
   "metadata": {},
   "source": [
    "### 2.1 CPU Inference"
   ]
  },
  {
   "cell_type": "markdown",
   "metadata": {},
   "source": [
    "In this one, we will first train the data with the structure of the model LeNet-5. The structure is based on the project description. After that, we will use the Fashion MNIST dataset to train 60K images. Once done, we will test the inference.\n",
    "\n",
    "For the time execution, it takes a very long time to train the model and more than a minute to do inference. The base test's accuracy is 97.87%."
   ]
  },
  {
   "cell_type": "code",
   "execution_count": null,
   "metadata": {
    "vscode": {
     "languageId": "plaintext"
    }
   },
   "outputs": [],
   "source": [
    "%%capture\n",
    "!mkdir -p mini-dnn-cpp/build\n",
    "%cd /content/mini-dnn-cpp/build\n",
    "!cmake ..\n",
    "!make"
   ]
  },
  {
   "cell_type": "code",
   "execution_count": null,
   "metadata": {
    "vscode": {
     "languageId": "plaintext"
    }
   },
   "outputs": [],
   "source": [
    "!/content/mini-dnn-cpp/build/demo"
   ]
  },
  {
   "cell_type": "markdown",
   "metadata": {},
   "source": [
    "### 2.2 GPU - Basic"
   ]
  },
  {
   "cell_type": "markdown",
   "metadata": {},
   "source": [
    "### 2.3 GPU - Constant memory"
   ]
  },
  {
   "cell_type": "markdown",
   "metadata": {},
   "source": [
    "### 2.4 GPU - Constant + Share Memory"
   ]
  },
  {
   "cell_type": "markdown",
   "metadata": {},
   "source": [
    "### 2.5 GPU - Constant + Stream"
   ]
  },
  {
   "cell_type": "markdown",
   "metadata": {},
   "source": [
    "## 3. Result"
   ]
  }
 ],
 "metadata": {
  "language_info": {
   "name": "python"
  },
  "orig_nbformat": 4
 },
 "nbformat": 4,
 "nbformat_minor": 2
}
